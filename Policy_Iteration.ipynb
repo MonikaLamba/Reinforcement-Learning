{
  "nbformat": 4,
  "nbformat_minor": 0,
  "metadata": {
    "colab": {
      "provenance": [],
      "authorship_tag": "ABX9TyNKlIHmM5VPLNGPVmWwMEah",
      "include_colab_link": true
    },
    "kernelspec": {
      "name": "python3",
      "display_name": "Python 3"
    },
    "language_info": {
      "name": "python"
    }
  },
  "cells": [
    {
      "cell_type": "markdown",
      "metadata": {
        "id": "view-in-github",
        "colab_type": "text"
      },
      "source": [
        "<a href=\"https://colab.research.google.com/github/MonikaLamba/Reinforcement-Learning/blob/main/Policy_Iteration.ipynb\" target=\"_parent\"><img src=\"https://colab.research.google.com/assets/colab-badge.svg\" alt=\"Open In Colab\"/></a>"
      ]
    },
    {
      "cell_type": "code",
      "execution_count": 1,
      "metadata": {
        "colab": {
          "base_uri": "https://localhost:8080/"
        },
        "id": "qb3pzEDGKjVu",
        "outputId": "058bf80c-bb49-4ec0-9568-cbaf0400aabf"
      },
      "outputs": [
        {
          "output_type": "stream",
          "name": "stdout",
          "text": [
            "-1.0\n",
            "-1.81\n",
            "10.0\n",
            "7.1\n",
            "4.7509999999999994\n",
            "-1.9729\n",
            "-1.6980490000000001\n",
            "10.0\n",
            "7.52759\n",
            "5.5249379\n",
            "-2.75087341\n",
            "6.852421393099999\n",
            "10.0\n",
            "7.597244411\n",
            "5.65101238391\n"
          ]
        }
      ],
      "source": [
        "# Initialize Markov Decision Process model\n",
        "actions = (0, 1)  # actions (0=left, 1=right)\n",
        "states = (0, 1, 2, 3, 4)  # states (tiles)\n",
        "rewards = [-1, -1, 10, -1, -1]  # Direct rewards per state\n",
        "gamma = 0.9  # discount factor\n",
        "delta = 10  # Error tolerance\n",
        "# Transition probabilities per state-action pair\n",
        "probs = [\n",
        "    [[0.9, 0.1], [0.1, 0.9], [0, 0], [0, 0], [0, 0]],\n",
        "    [[0.9, 0.1], [0, 0], [0.1, 0.9], [0, 0], [0, 0]],\n",
        "    [[0, 0], [0, 0], [0, 0], [0, 0], [0, 0]],  # Terminating state (all probs 0)\n",
        "    [[0, 0], [0, 0], [0.9, 0.1], [0, 0], [0.1, 0.9]],\n",
        "    [[0, 0], [0, 0], [0, 0], [0.9, 0.1], [0.1, 0.9]],\n",
        "]\n",
        "\n",
        "# Set policy iteration parameters\n",
        "max_policy_iter = 2  # Maximum number of policy iterations\n",
        "max_value_iter = 2  # Maximum number of value iterations\n",
        "pi = [0 for s in states]\n",
        "V = [0 for s in states]\n",
        "\n",
        "\n",
        "for i in range(max_policy_iter):\n",
        "    # Initial assumption: policy is stable\n",
        "    optimal_policy_found = True\n",
        "\n",
        "    # Policy evaluation\n",
        "    # Compute value for each state under current policy\n",
        "    for j in range(max_value_iter):\n",
        "        max_diff = 0  # Initialize max difference\n",
        "        V_new = [0, 0, 0, 0, 0]  # Initialize values\n",
        "        for s in states:\n",
        "\n",
        "            # Compute state value\n",
        "            val = rewards[s]  # Get direct reward\n",
        "            for s_next in states:\n",
        "                val += probs[s][s_next][pi[s]] * (\n",
        "                        gamma * V[s_next]\n",
        "\n",
        "                )  # Add discounted downstream values\n",
        "            print(val)\n",
        "            # Update maximum difference\n",
        "            max_diff = max(max_diff, abs(val - V[s]))\n",
        "\n",
        "            V[s] = val  # Update value with highest value\n",
        "        # If diff smaller than threshold delta for all states, algorithm terminates\n",
        "        if max_diff < delta:\n",
        "            break\n",
        "\n",
        "    # Policy iteration\n",
        "    # With updated state values, improve policy if needed\n",
        "    for s in states:\n",
        "\n",
        "        val_max = V[s]\n",
        "        for a in actions:\n",
        "            val = rewards[s]  # Get direct reward\n",
        "            for s_next in states:\n",
        "                val += probs[s][s_next][a] * (\n",
        "                    gamma * V[s_next]\n",
        "                )  # Add discounted downstream values\n",
        "\n",
        "            # Update policy if (i) action improves value and (ii) action different from current policy\n",
        "            if val > val_max and pi[s] != a:\n",
        "                pi[s] = a\n",
        "                val_max = val\n",
        "                optimal_policy_found = False\n",
        "\n",
        "    # If policy did not change, algorithm terminates\n",
        "    if optimal_policy_found:\n",
        "        break"
      ]
    },
    {
      "cell_type": "code",
      "source": [],
      "metadata": {
        "id": "vaeCmqqZMx1J"
      },
      "execution_count": null,
      "outputs": []
    }
  ]
}