{
  "nbformat": 4,
  "nbformat_minor": 0,
  "metadata": {
    "colab": {
      "name": "UPPER CONFIDENCE BOUND.ipynb",
      "provenance": [],
      "authorship_tag": "ABX9TyNFITt0yjoZXKA+TWXaVahf",
      "include_colab_link": true
    },
    "kernelspec": {
      "name": "python3",
      "display_name": "Python 3"
    },
    "language_info": {
      "name": "python"
    }
  },
  "cells": [
    {
      "cell_type": "markdown",
      "metadata": {
        "id": "view-in-github",
        "colab_type": "text"
      },
      "source": [
        "<a href=\"https://colab.research.google.com/github/MonikaLamba/Reinforcement-Learning/blob/main/UPPER_CONFIDENCE_BOUND.ipynb\" target=\"_parent\"><img src=\"https://colab.research.google.com/assets/colab-badge.svg\" alt=\"Open In Colab\"/></a>"
      ]
    },
    {
      "cell_type": "code",
      "execution_count": 1,
      "metadata": {
        "id": "OcgTrHO5Lg2X"
      },
      "outputs": [],
      "source": [
        "import numpy as np\n",
        "import pandas as pd\n",
        "import matplotlib.pyplot as plt"
      ]
    },
    {
      "cell_type": "markdown",
      "source": [
        "IMPORT DATASET"
      ],
      "metadata": {
        "id": "DvALXpNyMFgm"
      }
    },
    {
      "cell_type": "code",
      "source": [
        " df = pd.read_csv(\"Ads_Optimisation.csv\")"
      ],
      "metadata": {
        "id": "JP7TsfyTLj0c"
      },
      "execution_count": 2,
      "outputs": []
    },
    {
      "cell_type": "code",
      "source": [
        "df.shape"
      ],
      "metadata": {
        "colab": {
          "base_uri": "https://localhost:8080/"
        },
        "id": "bLv3wG70MOIK",
        "outputId": "004e53cf-e917-4ddd-e3e2-6340370acc2f"
      },
      "execution_count": 3,
      "outputs": [
        {
          "output_type": "execute_result",
          "data": {
            "text/plain": [
              "(10000, 10)"
            ]
          },
          "metadata": {},
          "execution_count": 3
        }
      ]
    },
    {
      "cell_type": "code",
      "source": [
        "df.shape[0]"
      ],
      "metadata": {
        "colab": {
          "base_uri": "https://localhost:8080/"
        },
        "id": "NLOok0jnMQ-Y",
        "outputId": "13008b1b-df00-4033-b8c5-aca919d2afa2"
      },
      "execution_count": 4,
      "outputs": [
        {
          "output_type": "execute_result",
          "data": {
            "text/plain": [
              "10000"
            ]
          },
          "metadata": {},
          "execution_count": 4
        }
      ]
    },
    {
      "cell_type": "code",
      "source": [
        "df.shape[1]"
      ],
      "metadata": {
        "colab": {
          "base_uri": "https://localhost:8080/"
        },
        "id": "VBtIGDloMVLA",
        "outputId": "92787945-61f4-49bb-f799-5b3e1749a14f"
      },
      "execution_count": 5,
      "outputs": [
        {
          "output_type": "execute_result",
          "data": {
            "text/plain": [
              "10"
            ]
          },
          "metadata": {},
          "execution_count": 5
        }
      ]
    },
    {
      "cell_type": "code",
      "source": [
        "[1] * 10"
      ],
      "metadata": {
        "colab": {
          "base_uri": "https://localhost:8080/"
        },
        "id": "MCJiESIjMZ1w",
        "outputId": "05ae9849-cc34-49a1-e314-9ae408e50357"
      },
      "execution_count": 6,
      "outputs": [
        {
          "output_type": "execute_result",
          "data": {
            "text/plain": [
              "[1, 1, 1, 1, 1, 1, 1, 1, 1, 1]"
            ]
          },
          "metadata": {},
          "execution_count": 6
        }
      ]
    },
    {
      "cell_type": "code",
      "source": [
        "[0] * 10"
      ],
      "metadata": {
        "colab": {
          "base_uri": "https://localhost:8080/"
        },
        "id": "lBOI16ZDMhuL",
        "outputId": "b679613d-27b1-4147-e4f0-90124e2be0bc"
      },
      "execution_count": 8,
      "outputs": [
        {
          "output_type": "execute_result",
          "data": {
            "text/plain": [
              "[0, 0, 0, 0, 0, 0, 0, 0, 0, 0]"
            ]
          },
          "metadata": {},
          "execution_count": 8
        }
      ]
    },
    {
      "cell_type": "markdown",
      "source": [
        "IMPLEMENTING UPPER CONFIDENCE BOUND"
      ],
      "metadata": {
        "id": "cc-ISsImL-Py"
      }
    },
    {
      "cell_type": "code",
      "source": [
        "import math\n",
        "\n",
        "N = df.shape[0]\n",
        "\n",
        "d = df.shape[1]\n",
        "ads_selected = []\n",
        "numbers_of_selections = [1] * d\n",
        "sums_of_rewards = [0] * d\n",
        "total_reward = 0\n",
        "\n",
        "for n in range(N):\n",
        "    ad = 0\n",
        "    max_upper_bound = 0\n",
        "    for i in range(d):\n",
        "        average_reward = sums_of_rewards[i] / numbers_of_selections[i]\n",
        "        delta_i = math.sqrt(3/2 * math.log(n+1) / numbers_of_selections[i])\n",
        "        upper_bound = average_reward + delta_i\n",
        "        if upper_bound > max_upper_bound:\n",
        "            max_upper_bound = upper_bound\n",
        "            ad = i\n",
        "    ads_selected.append(ad)\n",
        "    numbers_of_selections[ad] += 1\n",
        "    reward = df.iloc[n, ad]\n",
        "    sums_of_rewards[ad] += reward\n",
        "    total_reward += reward"
      ],
      "metadata": {
        "id": "n_wk86GEL1xg"
      },
      "execution_count": 9,
      "outputs": []
    },
    {
      "cell_type": "code",
      "source": [
        "print(total_reward)"
      ],
      "metadata": {
        "colab": {
          "base_uri": "https://localhost:8080/"
        },
        "id": "VjiJ610HMwvZ",
        "outputId": "4257a6c7-a43d-4c8b-e706-b2fef2dacf8d"
      },
      "execution_count": 10,
      "outputs": [
        {
          "output_type": "stream",
          "name": "stdout",
          "text": [
            "2220\n"
          ]
        }
      ]
    },
    {
      "cell_type": "code",
      "source": [
        "ads_selected"
      ],
      "metadata": {
        "id": "-QwqPtMbMzJG"
      },
      "execution_count": null,
      "outputs": []
    },
    {
      "cell_type": "markdown",
      "source": [
        "**VISUALISING** **THE** **RESULTS**"
      ],
      "metadata": {
        "id": "4-wxTeopNFjP"
      }
    },
    {
      "cell_type": "code",
      "source": [
        "plt.hist(ads_selected)\n",
        "plt.title('Histogram of ads selections')\n",
        "plt.xlabel('Ads')\n",
        "plt.ylabel('Number of times each ad was selected by the algorithm')"
      ],
      "metadata": {
        "colab": {
          "base_uri": "https://localhost:8080/",
          "height": 329
        },
        "id": "wiKYKg18M5v3",
        "outputId": "375e0e3c-238c-46b6-f784-6bdcc2418d06"
      },
      "execution_count": 12,
      "outputs": [
        {
          "output_type": "execute_result",
          "data": {
            "text/plain": [
              "Text(0, 0.5, 'Number of times each ad was selected by the algorithm')"
            ]
          },
          "metadata": {},
          "execution_count": 12
        },
        {
          "output_type": "display_data",
          "data": {
            "text/plain": [
              "<Figure size 432x288 with 1 Axes>"
            ],
            "image/png": "[encoded data removed]"
          },
          "metadata": {
            "needs_background": "light"
          }
        }
      ]
    },
    {
      "cell_type": "code",
      "source": [],
      "metadata": {
        "id": "OHgb7vqcNYA4"
      },
      "execution_count": null,
      "outputs": []
    }
  ]
}