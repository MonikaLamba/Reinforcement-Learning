{
  "nbformat": 4,
  "nbformat_minor": 0,
  "metadata": {
    "colab": {
      "provenance": [],
      "authorship_tag": "ABX9TyN2765P2j8Hdm4A/9u/UAiY",
      "include_colab_link": true
    },
    "kernelspec": {
      "name": "python3",
      "display_name": "Python 3"
    },
    "language_info": {
      "name": "python"
    }
  },
  "cells": [
    {
      "cell_type": "markdown",
      "metadata": {
        "id": "view-in-github",
        "colab_type": "text"
      },
      "source": [
        "<a href=\"https://colab.research.google.com/github/MonikaLamba/Reinforcement-Learning/blob/main/Q_learning.ipynb\" target=\"_parent\"><img src=\"https://colab.research.google.com/assets/colab-badge.svg\" alt=\"Open In Colab\"/></a>"
      ]
    },
    {
      "cell_type": "code",
      "execution_count": 1,
      "metadata": {
        "id": "iRcoTyyIIgzc"
      },
      "outputs": [],
      "source": [
        "import numpy as np\n",
        "#R matrix\n",
        "R=np.matrix([[-1,-1,-1,-1,0,-1],\n",
        "             [-1,-1,-1,0,-1,100],\n",
        "             [-1,-1,-1,0,-1,-1],\n",
        "             [-1,0,0,-1,0,-1],\n",
        "             [-1,0,0,-1,-1,100],\n",
        "             [-1,0,-1,-1,0,100]])\n"
      ]
    },
    {
      "cell_type": "code",
      "source": [
        "R"
      ],
      "metadata": {
        "colab": {
          "base_uri": "https://localhost:8080/"
        },
        "id": "pSeGdEJsIjmZ",
        "outputId": "7bc30d5f-342c-49ac-adc9-17556cbe7ff4"
      },
      "execution_count": 2,
      "outputs": [
        {
          "output_type": "execute_result",
          "data": {
            "text/plain": [
              "matrix([[ -1,  -1,  -1,  -1,   0,  -1],\n",
              "        [ -1,  -1,  -1,   0,  -1, 100],\n",
              "        [ -1,  -1,  -1,   0,  -1,  -1],\n",
              "        [ -1,   0,   0,  -1,   0,  -1],\n",
              "        [ -1,   0,   0,  -1,  -1, 100],\n",
              "        [ -1,   0,  -1,  -1,   0, 100]])"
            ]
          },
          "metadata": {},
          "execution_count": 2
        }
      ]
    },
    {
      "cell_type": "code",
      "source": [
        "#Q matrix\n",
        "Q=np.matrix(np.zeros([6,6]))"
      ],
      "metadata": {
        "id": "47RFfDVjImVa"
      },
      "execution_count": 3,
      "outputs": []
    },
    {
      "cell_type": "code",
      "source": [
        "Q"
      ],
      "metadata": {
        "colab": {
          "base_uri": "https://localhost:8080/"
        },
        "id": "n4lnlcFHIp_m",
        "outputId": "e275dfb6-90b0-470a-875a-c9d3d968d1da"
      },
      "execution_count": 4,
      "outputs": [
        {
          "output_type": "execute_result",
          "data": {
            "text/plain": [
              "matrix([[0., 0., 0., 0., 0., 0.],\n",
              "        [0., 0., 0., 0., 0., 0.],\n",
              "        [0., 0., 0., 0., 0., 0.],\n",
              "        [0., 0., 0., 0., 0., 0.],\n",
              "        [0., 0., 0., 0., 0., 0.],\n",
              "        [0., 0., 0., 0., 0., 0.]])"
            ]
          },
          "metadata": {},
          "execution_count": 4
        }
      ]
    },
    {
      "cell_type": "code",
      "source": [
        "gamma=0.8\n",
        "initial_state=1\n"
      ],
      "metadata": {
        "id": "ihhhIpInIrL7"
      },
      "execution_count": 5,
      "outputs": []
    },
    {
      "cell_type": "code",
      "source": [
        "#this function returns all available actions in the state given as an argument\n",
        "def available_actions(state):\n",
        "  current_state_row=R[state,]\n",
        "  av_act=np.where(current_state_row>=0)[1]\n",
        "  return av_act"
      ],
      "metadata": {
        "id": "YqyFq2nOIwM3"
      },
      "execution_count": 6,
      "outputs": []
    },
    {
      "cell_type": "code",
      "source": [
        "#get available actions in the current state\n",
        "available_act=available_actions(initial_state)"
      ],
      "metadata": {
        "id": "maHvpc1cIyxw"
      },
      "execution_count": 7,
      "outputs": []
    },
    {
      "cell_type": "code",
      "source": [
        "available_act"
      ],
      "metadata": {
        "colab": {
          "base_uri": "https://localhost:8080/"
        },
        "id": "4PWla1BYI5se",
        "outputId": "13c38b41-1ab2-4adc-9c0f-844c1a234ae8"
      },
      "execution_count": 8,
      "outputs": [
        {
          "output_type": "execute_result",
          "data": {
            "text/plain": [
              "array([3, 5])"
            ]
          },
          "metadata": {},
          "execution_count": 8
        }
      ]
    },
    {
      "cell_type": "code",
      "source": [
        "#this function chooses at random which action to be performed within the range of all available actions\n",
        "def sample_next_action(available_actions_range):\n",
        "  next_action=int(np.random.choice(available_act,1))\n",
        "  return next_action"
      ],
      "metadata": {
        "id": "PXVfU8auI7pX"
      },
      "execution_count": 9,
      "outputs": []
    },
    {
      "cell_type": "code",
      "source": [
        "#sample next action to be performed\n",
        "action=sample_next_action(available_act)"
      ],
      "metadata": {
        "id": "dbA85h1DJI5q"
      },
      "execution_count": 10,
      "outputs": []
    },
    {
      "cell_type": "code",
      "source": [
        "action"
      ],
      "metadata": {
        "colab": {
          "base_uri": "https://localhost:8080/"
        },
        "id": "VA08pd0LJMCF",
        "outputId": "a0aabe3c-3214-413c-e45a-63b09ed8cd96"
      },
      "execution_count": 11,
      "outputs": [
        {
          "output_type": "execute_result",
          "data": {
            "text/plain": [
              "5"
            ]
          },
          "metadata": {},
          "execution_count": 11
        }
      ]
    },
    {
      "cell_type": "code",
      "source": [
        "#this function updates the Qmatrix according to the path selected and the Q learning algorithm\n",
        "def update(current_state,action,gamma):\n",
        "  max_index=np.where(Q[action,]==np.max(Q[action,]))[1]\n",
        "\n",
        "  if max_index.shape[0]>1:\n",
        "    max_index=int(np.random.choice(max_index,size=1))\n",
        "  else:\n",
        "    max_index=int(max_index)\n",
        "  max_value=Q[action, max_index]\n",
        "\n",
        "  #Q-learning formula\n",
        "  Q[current_state,action]=R[current_state,action]+gamma*max_value\n",
        "\n",
        "#update Q matrix\n",
        "update(initial_state,action,gamma)\n"
      ],
      "metadata": {
        "id": "CKMBWIi7JNJo"
      },
      "execution_count": 12,
      "outputs": []
    },
    {
      "cell_type": "code",
      "source": [
        "Q"
      ],
      "metadata": {
        "colab": {
          "base_uri": "https://localhost:8080/"
        },
        "id": "8bbv63lGJW8V",
        "outputId": "c33274f3-a2a9-40ce-9772-011819a37e78"
      },
      "execution_count": 13,
      "outputs": [
        {
          "output_type": "execute_result",
          "data": {
            "text/plain": [
              "matrix([[  0.,   0.,   0.,   0.,   0.,   0.],\n",
              "        [  0.,   0.,   0.,   0.,   0., 100.],\n",
              "        [  0.,   0.,   0.,   0.,   0.,   0.],\n",
              "        [  0.,   0.,   0.,   0.,   0.,   0.],\n",
              "        [  0.,   0.,   0.,   0.,   0.,   0.],\n",
              "        [  0.,   0.,   0.,   0.,   0.,   0.]])"
            ]
          },
          "metadata": {},
          "execution_count": 13
        }
      ]
    },
    {
      "cell_type": "code",
      "source": [
        "#Training\n",
        "#Train over 10,000 iterations\n",
        "for i in range(10000):\n",
        "  current_state=np.random.randint(0,int(Q.shape[0]))\n",
        "  available_act=available_actions(current_state)\n",
        "  action=sample_next_action(available_act)\n",
        "  update(current_state,action,gamma)\n",
        "\n",
        "\n",
        "#normalize the trained Q-matrix\n",
        "print(\"Trained Q matrix:\")\n",
        "print(Q/np.max(Q)*100)\n",
        "\n"
      ],
      "metadata": {
        "colab": {
          "base_uri": "https://localhost:8080/"
        },
        "id": "IenDwZGxJX3_",
        "outputId": "a507e6e3-37d4-4bc1-ce6e-194f9db41598"
      },
      "execution_count": 14,
      "outputs": [
        {
          "output_type": "stream",
          "name": "stdout",
          "text": [
            "Trained Q matrix:\n",
            "[[  0.    0.    0.    0.   80.    0. ]\n",
            " [  0.    0.    0.   64.    0.  100. ]\n",
            " [  0.    0.    0.   64.    0.    0. ]\n",
            " [  0.   80.   51.2   0.   80.    0. ]\n",
            " [  0.   80.   51.2   0.    0.  100. ]\n",
            " [  0.   80.    0.    0.   80.  100. ]]\n"
          ]
        }
      ]
    },
    {
      "cell_type": "code",
      "source": [
        "#Testing\n",
        "#goal state=5\n",
        "\n",
        "current_state=1\n",
        "steps=[current_state]\n",
        "\n",
        "while current_state != 5:\n",
        "  next_step_index=np.where(Q[current_state,]==np.max(Q[current_state,]))[1]\n",
        "  if next_step_index.shape[0]>1:\n",
        "    next_step_index=int(np.random.choice(next_step_index,size=1))\n",
        "  else:\n",
        "    next_step_index=int(next_step_index)\n",
        "\n",
        "  steps.append(next_step_index)\n",
        "  current_state=next_step_index\n",
        "\n",
        "\n",
        "\n",
        "#print selected step sequence\n",
        "print (\"selected path:\")\n",
        "print (steps)\n",
        "\n"
      ],
      "metadata": {
        "colab": {
          "base_uri": "https://localhost:8080/"
        },
        "id": "ezxPLBhaJc5W",
        "outputId": "3c6a6375-bb8d-47cb-9de0-c2be65e5431b"
      },
      "execution_count": 15,
      "outputs": [
        {
          "output_type": "stream",
          "name": "stdout",
          "text": [
            "selected path:\n",
            "[1, 5]\n"
          ]
        }
      ]
    },
    {
      "cell_type": "code",
      "source": [],
      "metadata": {
        "id": "MEcsncVEJozk"
      },
      "execution_count": null,
      "outputs": []
    }
  ]
}