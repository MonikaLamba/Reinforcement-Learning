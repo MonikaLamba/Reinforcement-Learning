{
  "nbformat": 4,
  "nbformat_minor": 0,
  "metadata": {
    "colab": {
      "name": "THOMPSON_SAMPLING.ipynb",
      "provenance": [],
      "authorship_tag": "ABX9TyMfDvQSIzUgSh0Fwua47E4F",
      "include_colab_link": true
    },
    "kernelspec": {
      "name": "python3",
      "display_name": "Python 3"
    },
    "language_info": {
      "name": "python"
    }
  },
  "cells": [
    {
      "cell_type": "markdown",
      "metadata": {
        "id": "view-in-github",
        "colab_type": "text"
      },
      "source": [
        "<a href=\"https://colab.research.google.com/github/MonikaLamba/Reinforcement-Learning/blob/main/THOMPSON_SAMPLING.ipynb\" target=\"_parent\"><img src=\"https://colab.research.google.com/assets/colab-badge.svg\" alt=\"Open In Colab\"/></a>"
      ]
    },
    {
      "cell_type": "code",
      "execution_count": 2,
      "metadata": {
        "id": "Pdt1pek9Nu8O"
      },
      "outputs": [],
      "source": [
        "import numpy as np\n",
        "import pandas as pd\n",
        "import matplotlib.pyplot as plt"
      ]
    },
    {
      "cell_type": "markdown",
      "source": [
        "**IMPORTING** **DATA**"
      ],
      "metadata": {
        "id": "OuTNiSQGN3_3"
      }
    },
    {
      "cell_type": "code",
      "source": [
        "df = pd.read_csv(\"Ads_Optimisation.csv\")"
      ],
      "metadata": {
        "id": "0M5ujH3LN-Sv"
      },
      "execution_count": 3,
      "outputs": []
    },
    {
      "cell_type": "markdown",
      "source": [
        "**IMPLEMENTING** **THOMPSON** **SAMPLING**"
      ],
      "metadata": {
        "id": "G_NKgknjOVmB"
      }
    },
    {
      "cell_type": "code",
      "source": [
        "import random\n",
        "\n",
        "N = df.shape[0]\n",
        "d = df.shape[1]\n",
        "ads_selected = []\n",
        "number_of_rewards_1 = [0] * d\n",
        "number_of_rewards_0 = [0] * d\n",
        "total_reward = 0\n",
        "\n",
        "for n in range(N):\n",
        "    ad = 0\n",
        "    max_random_beta = 0\n",
        "    for i in range(d):\n",
        "        random_beta = random.betavariate(number_of_rewards_1[i] + 1, number_of_rewards_0[i] + 1)\n",
        "        if random_beta > max_random_beta:\n",
        "            max_random_beta = random_beta\n",
        "            ad = i\n",
        "    ads_selected.append(ad)\n",
        "    reward = df.iloc[n, ad]\n",
        "    if reward == 1:\n",
        "        number_of_rewards_1[ad] += 1\n",
        "    else:\n",
        "        number_of_rewards_0[ad] += 1\n",
        "    total_reward += reward"
      ],
      "metadata": {
        "id": "KR2ys42xN-yn"
      },
      "execution_count": 4,
      "outputs": []
    },
    {
      "cell_type": "markdown",
      "source": [
        "**VISUALISING** **THE** **RESULTS**"
      ],
      "metadata": {
        "id": "-YdkXfgsOaKX"
      }
    },
    {
      "cell_type": "code",
      "source": [
        "plt.hist(ads_selected)\n",
        "plt.title('Histogram of ads selections')\n",
        "plt.xlabel('Ads')\n",
        "plt.ylabel('Number of times each ad was selected by the algorithm')"
      ],
      "metadata": {
        "colab": {
          "base_uri": "https://localhost:8080/",
          "height": 329
        },
        "id": "MeP0FiZuOHrk",
        "outputId": "3f8a7154-c279-435f-c310-50603ca6bc62"
      },
      "execution_count": 5,
      "outputs": [
        {
          "output_type": "execute_result",
          "data": {
            "text/plain": [
              "Text(0, 0.5, 'Number of times each ad was selected by the algorithm')"
            ]
          },
          "metadata": {},
          "execution_count": 5
        },
        {
          "output_type": "display_data",
          "data": {
            "text/plain": [
              "<Figure size 432x288 with 1 Axes>"
            ],
            "image/png": "[encoded data removed]"
          },
          "metadata": {
            "needs_background": "light"
          }
        }
      ]
    },
    {
      "cell_type": "code",
      "source": [
        "from collections import Counter\n",
        "Counter(ads_selected)"
      ],
      "metadata": {
        "colab": {
          "base_uri": "https://localhost:8080/"
        },
        "id": "KwRx3Xd7OOn8",
        "outputId": "e486d028-59f0-4e52-aabf-51f52bc4bf4e"
      },
      "execution_count": 6,
      "outputs": [
        {
          "output_type": "execute_result",
          "data": {
            "text/plain": [
              "Counter({6: 70,\n",
              "         3: 62,\n",
              "         1: 83,\n",
              "         9: 39,\n",
              "         8: 93,\n",
              "         4: 9309,\n",
              "         5: 24,\n",
              "         0: 223,\n",
              "         7: 51,\n",
              "         2: 46})"
            ]
          },
          "metadata": {},
          "execution_count": 6
        }
      ]
    },
    {
      "cell_type": "code",
      "source": [],
      "metadata": {
        "id": "ElgALBpuOR6C"
      },
      "execution_count": null,
      "outputs": []
    }
  ]
}