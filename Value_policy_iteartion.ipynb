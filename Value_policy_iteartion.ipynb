{
  "nbformat": 4,
  "nbformat_minor": 0,
  "metadata": {
    "colab": {
      "provenance": [],
      "authorship_tag": "ABX9TyO4AqAZwxpyJaWO36+xS+IW",
      "include_colab_link": true
    },
    "kernelspec": {
      "name": "python3",
      "display_name": "Python 3"
    },
    "language_info": {
      "name": "python"
    }
  },
  "cells": [
    {
      "cell_type": "markdown",
      "metadata": {
        "id": "view-in-github",
        "colab_type": "text"
      },
      "source": [
        "<a href=\"https://colab.research.google.com/github/MonikaLamba/Reinforcement-Learning/blob/main/Value_policy_iteartion.ipynb\" target=\"_parent\"><img src=\"https://colab.research.google.com/assets/colab-badge.svg\" alt=\"Open In Colab\"/></a>"
      ]
    },
    {
      "cell_type": "markdown",
      "source": [
        "The problem\n",
        "\n",
        "The problem of interest is a one-dimensional world (a row of tiles). In the middle, there is a tile that serves as terminating state. Landing on this tile yields a reward of +10, stepping between tiles costs -1 per move. The agent can decide to move left or right, but ends up going into the wrong direction 10% of the time. With a direct reward, an expected downstream reward, and transition probabilities, it has the basic elements of an MDP."
      ],
      "metadata": {
        "id": "CTqr4L3eOtd3"
      }
    },
    {
      "cell_type": "code",
      "execution_count": 1,
      "metadata": {
        "id": "cfmRbSjXOry0"
      },
      "outputs": [],
      "source": [
        "# Initialize Markov Decision Process model\n",
        "actions = (0, 1)  # actions (0=left, 1=right)\n",
        "states = (0, 1, 2, 3, 4)  # states (tiles)\n",
        "rewards = [-1, -1, 10, -1, -1]  # Direct rewards per state\n",
        "gamma = 0.9  # discount factor\n",
        "delta = 10  # Error tolerance\n",
        "# Transition probabilities per state-action pair\n",
        "probs = [\n",
        "    [[0.9, 0.1], [0.1, 0.9], [0, 0], [0, 0], [0, 0]],\n",
        "    [[0.9, 0.1], [0, 0], [0.1, 0.9], [0, 0], [0, 0]],\n",
        "    [[0, 0], [0, 0], [0, 0], [0, 0], [0, 0]],  # Terminating state (all probs 0)\n",
        "    [[0, 0], [0, 0], [0.9, 0.1], [0, 0], [0.1, 0.9]],\n",
        "    [[0, 0], [0, 0], [0, 0], [0.9, 0.1], [0.1, 0.9]],\n",
        "]"
      ]
    },
    {
      "cell_type": "code",
      "source": [
        "probs"
      ],
      "metadata": {
        "colab": {
          "base_uri": "https://localhost:8080/"
        },
        "id": "moYy6mHZO0Uj",
        "outputId": "63196162-e558-4add-a48b-7ccd03105115"
      },
      "execution_count": 2,
      "outputs": [
        {
          "output_type": "execute_result",
          "data": {
            "text/plain": [
              "[[[0.9, 0.1], [0.1, 0.9], [0, 0], [0, 0], [0, 0]],\n",
              " [[0.9, 0.1], [0, 0], [0.1, 0.9], [0, 0], [0, 0]],\n",
              " [[0, 0], [0, 0], [0, 0], [0, 0], [0, 0]],\n",
              " [[0, 0], [0, 0], [0.9, 0.1], [0, 0], [0.1, 0.9]],\n",
              " [[0, 0], [0, 0], [0, 0], [0.9, 0.1], [0.1, 0.9]]]"
            ]
          },
          "metadata": {},
          "execution_count": 2
        }
      ]
    },
    {
      "cell_type": "code",
      "source": [
        "# Set policy iteration parameters\n",
        "max_policy_iter = 10000  # Maximum number of policy iterations\n",
        "max_value_iter = 10000  # Maximum number of value iterations\n",
        "pi = [0 for s in states]\n",
        "V = [0 for s in states]"
      ],
      "metadata": {
        "id": "v0CxPznSO4i9"
      },
      "execution_count": 3,
      "outputs": []
    },
    {
      "cell_type": "code",
      "source": [
        "for i in range(max_policy_iter):\n",
        "    # Initial assumption: policy is stable\n",
        "    optimal_policy_found = True\n",
        "\n",
        "    # Policy evaluation\n",
        "    # Compute value for each state under current policy\n",
        "    for j in range(max_value_iter):\n",
        "        max_diff = 0  # Initialize max difference\n",
        "        V_new = [0, 0, 0, 0, 0]  # Initialize values\n",
        "        for s in states:\n",
        "\n",
        "            # Compute state value\n",
        "            val = rewards[s]  # Get direct reward\n",
        "            for s_next in states:\n",
        "                val += probs[s][s_next][pi[s]] * (\n",
        "                        gamma * V[s_next]\n",
        "                )  # Add discounted downstream values\n",
        "\n",
        "            # Update maximum difference\n",
        "            max_diff = max(max_diff, abs(val - V[s]))\n",
        "\n",
        "            V[s] = val  # Update value with highest value\n",
        "        # If diff smaller than threshold delta for all states, algorithm terminates\n",
        "        if max_diff < delta:\n",
        "            break\n",
        "\n",
        "    # Policy iteration\n",
        "    # With updated state values, improve policy if needed\n",
        "    for s in states:\n",
        "\n",
        "        val_max = V[s]\n",
        "        for a in actions:\n",
        "            val = rewards[s]  # Get direct reward\n",
        "            for s_next in states:\n",
        "                val += probs[s][s_next][a] * (\n",
        "                    gamma * V[s_next]\n",
        "                )  # Add discounted downstream values\n",
        "\n",
        "            # Update policy if (i) action improves value and (ii) action different from current policy\n",
        "            if val > val_max and pi[s] != a:\n",
        "                pi[s] = a\n",
        "                val_max = val\n",
        "                optimal_policy_found = False\n",
        "\n",
        "    # If policy did not change, algorithm terminates\n",
        "    if optimal_policy_found:\n",
        "        break"
      ],
      "metadata": {
        "id": "XhB_MbSZPEqC"
      },
      "execution_count": 4,
      "outputs": []
    },
    {
      "cell_type": "code",
      "source": [
        "val_max"
      ],
      "metadata": {
        "colab": {
          "base_uri": "https://localhost:8080/"
        },
        "id": "iofDtQXOPNM1",
        "outputId": "1c293253-127a-4eb0-f3db-0bc314954fb3"
      },
      "execution_count": 5,
      "outputs": [
        {
          "output_type": "execute_result",
          "data": {
            "text/plain": [
              "5.67154991733894"
            ]
          },
          "metadata": {},
          "execution_count": 5
        }
      ]
    },
    {
      "cell_type": "code",
      "source": [
        "s_next"
      ],
      "metadata": {
        "colab": {
          "base_uri": "https://localhost:8080/"
        },
        "id": "UvknopXZPVp9",
        "outputId": "c53f8912-edf4-4019-df48-abccb1369127"
      },
      "execution_count": 6,
      "outputs": [
        {
          "output_type": "execute_result",
          "data": {
            "text/plain": [
              "4"
            ]
          },
          "metadata": {},
          "execution_count": 6
        }
      ]
    },
    {
      "cell_type": "code",
      "source": [
        "optimal_policy_found"
      ],
      "metadata": {
        "colab": {
          "base_uri": "https://localhost:8080/"
        },
        "id": "RTOLk8F6PYyQ",
        "outputId": "4ebada4c-5d5e-4aac-89c4-0aa34f652bdf"
      },
      "execution_count": 7,
      "outputs": [
        {
          "output_type": "execute_result",
          "data": {
            "text/plain": [
              "True"
            ]
          },
          "metadata": {},
          "execution_count": 7
        }
      ]
    },
    {
      "cell_type": "code",
      "source": [
        "V"
      ],
      "metadata": {
        "colab": {
          "base_uri": "https://localhost:8080/"
        },
        "id": "Cfoe0ZTDPfQF",
        "outputId": "e0e4f9d9-8fbb-442d-8da5-7aff0b870566"
      },
      "execution_count": 8,
      "outputs": [
        {
          "output_type": "execute_result",
          "data": {
            "text/plain": [
              "[4.302882721511, 7.48725944493599, 10.0, 7.6085911145519, 5.67154991733894]"
            ]
          },
          "metadata": {},
          "execution_count": 8
        }
      ]
    },
    {
      "cell_type": "code",
      "source": [
        "pi"
      ],
      "metadata": {
        "colab": {
          "base_uri": "https://localhost:8080/"
        },
        "id": "REQ6HTbeP9Gl",
        "outputId": "ab29c756-3d95-4e1e-dc49-6886dabdf6cf"
      },
      "execution_count": 9,
      "outputs": [
        {
          "output_type": "execute_result",
          "data": {
            "text/plain": [
              "[1, 1, 0, 0, 0]"
            ]
          },
          "metadata": {},
          "execution_count": 9
        }
      ]
    },
    {
      "cell_type": "code",
      "source": [],
      "metadata": {
        "id": "ix9--_j9QBAC"
      },
      "execution_count": null,
      "outputs": []
    }
  ]
}